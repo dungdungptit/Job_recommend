{
 "cells": [
  {
   "cell_type": "code",
   "execution_count": 1,
   "metadata": {},
   "outputs": [],
   "source": [
    "from langchain_community.document_loaders import PyPDFLoader\n",
    "file_path = \"./Dang_Quang_Dung_CV__Copy___Copy_.pdf\"\n",
    "\n",
    "loader = PyPDFLoader(file_path)\n",
    "documents = []\n",
    "for page in loader.load():\n",
    "    documents.append(page)"
   ]
  },
  {
   "cell_type": "code",
   "execution_count": 2,
   "metadata": {},
   "outputs": [
    {
     "data": {
      "text/plain": [
       "[Document(metadata={'source': './Dang_Quang_Dung_CV__Copy___Copy_.pdf', 'page': 0}, page_content='Dang Quang Dung\\nanhdungvk01@gmail.com\\n0869040236\\nLinkedin\\nGithub\\nCau Giay - Ha Noi\\nProfile\\nInﬁveyears’time,IwanttobecomeanAIEngineer.MystartingpointistobeginthispositionasaSoftwareEngineer.\\nEducation\\n09/2019–05/2024 PostsandTelecommunicationsInstituteofTechnology .\\nInformationTechnology\\nGPA3.31/4.0\\nResearch Interests\\nNaturalLanguageProcessing(NLP),MachineLearningandDeepLearning.\\nWord Experience\\nMasterTraineratCentreforDevelopmentofAdvancedComputing(C-DAC),India(09/2024-\\npresent)\\n• ParticipateinArtiﬁcialIntelligence&DataScience:PG-DBDA-PostGraduateDiplomainBigData\\nAnalytics\\nAIResearcheratReseachInstituteofPostsandTelecommunications(RIPT)-PTIT(08/2024-\\npresent)\\n• Researchandwritingpaper\\n• BuildachatbotsystemusingRAGtechniques,FunctionCallingwithLLMs\\nSoftwareAIEngineeratA.I-SoftJSC(02/2023-08/2024)\\n• Buildwebsitesforresearchtopics.\\n• Buildachatbotsystemtosupportenrollment(End-to-End)usingRasaandBotpressFramework.\\n• Buildacrawldatamodule,dataanalysisusingBERTopicforsocialnetworklisteningsystem.\\n• ResearchpaperaboutAIandNaturalLanguageProcessingandapplytousedsoftwareproducts.\\n• Buildachatbotsystemtosupportenrollment(End-to-End)withLLMsusingRAG\\n(Retrieval-AugmentedGeneration)techniqueswithLangChainandLlamaIndexFramework.\\nSkills\\nLanguages English,Vietnamese(nativespeaker)\\nCoding Python,Linux,SQL,FastAPI,Docker,...\\nDatabases My sql,MongoDB,FAISS,Chroma...\\nWebDev Html, css,JavaScript,Reactjs,Antdesign,MUI...'),\n",
       " Document(metadata={'source': './Dang_Quang_Dung_CV__Copy___Copy_.pdf', 'page': 1}, page_content='Skills (continued)\\nOpen-sourceNLPTools Transformers(HuggingFace),spaCy,scikit-learn,Gensim,NLTK,BERTopic,\\nRasa,Botpress,Langchain,LlamaIndex...\\nDeepLearningFrameworks TensorFlow,Keras,PyTorch\\nMisc. Research Skills, Problem Solving, Report Writing, Teamwork and Indepen-\\ndently,DataStructuresandAlgorithms,DataVisualization(Tableau,Excel)\\nScientific research achievements\\nPublished scientific articles\\n2024 An intent-ﬁltered retrieval-augmented generation chatbot for university admissions in\\nVietnam.InternationalConferenceOnAdvancedTechnologiesForCommunications.\\nMiscellaneous Experience\\nCertification\\n11/2021 APPLICATIONSOFALGORITHM .byPostsandTelecommunicationsInstituteofTechnology\\nandSamsungElectronicsVietnamCompanyLimited.\\n09/2022 Toeic605 .byIIGVietNam.')]"
      ]
     },
     "execution_count": 2,
     "metadata": {},
     "output_type": "execute_result"
    }
   ],
   "source": [
    "documents"
   ]
  },
  {
   "cell_type": "code",
   "execution_count": 3,
   "metadata": {},
   "outputs": [
    {
     "data": {
      "text/plain": [
       "'Dang Quang Dung\\nanhdungvk01@gmail.com\\n0869040236\\nLinkedin\\nGithub\\nCau Giay - Ha Noi\\nProfile\\nInﬁveyears’time,IwanttobecomeanAIEngineer.MystartingpointistobeginthispositionasaSoftwareEngineer.\\nEducation\\n09/2019–05/2024 PostsandTelecommunicationsInstituteofTechnology .\\nInformationTechnology\\nGPA3.31/4.0\\nResearch Interests\\nNaturalLanguageProcessing(NLP),MachineLearningandDeepLearning.\\nWord Experience\\nMasterTraineratCentreforDevelopmentofAdvancedComputing(C-DAC),India(09/2024-\\npresent)\\n• ParticipateinArtiﬁcialIntelligence&DataScience:PG-DBDA-PostGraduateDiplomainBigData\\nAnalytics\\nAIResearcheratReseachInstituteofPostsandTelecommunications(RIPT)-PTIT(08/2024-\\npresent)\\n• Researchandwritingpaper\\n• BuildachatbotsystemusingRAGtechniques,FunctionCallingwithLLMs\\nSoftwareAIEngineeratA.I-SoftJSC(02/2023-08/2024)\\n• Buildwebsitesforresearchtopics.\\n• Buildachatbotsystemtosupportenrollment(End-to-End)usingRasaandBotpressFramework.\\n• Buildacrawldatamodule,dataanalysisusingBERTopicforsocialnetworklisteningsystem.\\n• ResearchpaperaboutAIandNaturalLanguageProcessingandapplytousedsoftwareproducts.\\n• Buildachatbotsystemtosupportenrollment(End-to-End)withLLMsusingRAG\\n(Retrieval-AugmentedGeneration)techniqueswithLangChainandLlamaIndexFramework.\\nSkills\\nLanguages English,Vietnamese(nativespeaker)\\nCoding Python,Linux,SQL,FastAPI,Docker,...\\nDatabases My sql,MongoDB,FAISS,Chroma...\\nWebDev Html, css,JavaScript,Reactjs,Antdesign,MUI...\\nSkills (continued)\\nOpen-sourceNLPTools Transformers(HuggingFace),spaCy,scikit-learn,Gensim,NLTK,BERTopic,\\nRasa,Botpress,Langchain,LlamaIndex...\\nDeepLearningFrameworks TensorFlow,Keras,PyTorch\\nMisc. Research Skills, Problem Solving, Report Writing, Teamwork and Indepen-\\ndently,DataStructuresandAlgorithms,DataVisualization(Tableau,Excel)\\nScientific research achievements\\nPublished scientific articles\\n2024 An intent-ﬁltered retrieval-augmented generation chatbot for university admissions in\\nVietnam.InternationalConferenceOnAdvancedTechnologiesForCommunications.\\nMiscellaneous Experience\\nCertification\\n11/2021 APPLICATIONSOFALGORITHM .byPostsandTelecommunicationsInstituteofTechnology\\nandSamsungElectronicsVietnamCompanyLimited.\\n09/2022 Toeic605 .byIIGVietNam.'"
      ]
     },
     "execution_count": 3,
     "metadata": {},
     "output_type": "execute_result"
    }
   ],
   "source": [
    "_resume_content = \"\\n\".join([doc.page_content for doc in documents])\n",
    "_resume_content"
   ]
  },
  {
   "cell_type": "code",
   "execution_count": 4,
   "metadata": {},
   "outputs": [],
   "source": [
    "from langchain_ollama import OllamaLLM\n",
    "\n",
    "llm = OllamaLLM(model=\"llama3.2\")\n",
    "\n",
    "# llm.invoke(\"The first man on the moon was ...\")"
   ]
  },
  {
   "cell_type": "markdown",
   "metadata": {},
   "source": [
    "# LLM"
   ]
  },
  {
   "cell_type": "code",
   "execution_count": 5,
   "metadata": {},
   "outputs": [
    {
     "data": {
      "text/plain": [
       "True"
      ]
     },
     "execution_count": 5,
     "metadata": {},
     "output_type": "execute_result"
    }
   ],
   "source": [
    "from dotenv import load_dotenv\n",
    "\n",
    "load_dotenv()"
   ]
  },
  {
   "cell_type": "code",
   "execution_count": 6,
   "metadata": {},
   "outputs": [],
   "source": [
    "from langchain_openai import ChatOpenAI\n",
    "\n",
    "llm = ChatOpenAI(model=\"gpt-4o-mini\", temperature=0)"
   ]
  },
  {
   "cell_type": "code",
   "execution_count": null,
   "metadata": {},
   "outputs": [],
   "source": []
  },
  {
   "cell_type": "code",
   "execution_count": 7,
   "metadata": {},
   "outputs": [],
   "source": [
    "from langchain_core.output_parsers import JsonOutputParser\n",
    "from langchain_core.prompts import PromptTemplate\n",
    "from langchain_openai import ChatOpenAI\n",
    "from pydantic import BaseModel, Field\n",
    "import pydantic\n",
    "from langchain_ollama.llms import OllamaLLM\n",
    "\n",
    "model = OllamaLLM(model=\"llama3.2\")\n",
    "\n",
    "\n",
    "# Define your desired data structure.\n",
    "class Joke(BaseModel):\n",
    "    setup: str = Field(description=\"question to set up a joke\")\n",
    "    punchline: str = Field(description=\"answer to resolve the joke\")\n",
    "\n",
    "\n",
    "# And a query intented to prompt a language model to populate the data structure.\n",
    "joke_query = \"Tell me a joke.\"\n",
    "\n",
    "# Set up a parser + inject instructions into the prompt template.\n",
    "parser = JsonOutputParser(pydantic_object=Joke)\n",
    "\n",
    "prompt = PromptTemplate(\n",
    "    template=\"Answer the user query.\\n{format_instructions}\\n{query}\\n\",\n",
    "    input_variables=[\"query\"],\n",
    "    partial_variables={\"format_instructions\": parser.get_format_instructions()},\n",
    ")\n",
    "\n",
    "chain = prompt | model | parser\n",
    "\n",
    "# chain.invoke({\"query\": joke_query})"
   ]
  },
  {
   "cell_type": "code",
   "execution_count": 8,
   "metadata": {},
   "outputs": [],
   "source": [
    "from typing import List, Optional\n",
    "from pydantic import BaseModel, EmailStr, Field, root_validator, field_validator"
   ]
  },
  {
   "cell_type": "code",
   "execution_count": 9,
   "metadata": {},
   "outputs": [
    {
     "name": "stderr",
     "output_type": "stream",
     "text": [
      "C:\\Users\\Admin\\AppData\\Local\\Temp\\ipykernel_26588\\3241683779.py:88: PydanticDeprecatedSince20: Pydantic V1 style `@root_validator` validators are deprecated. You should migrate to Pydantic V2 style `@model_validator` validators, see the migration guide for more details. Deprecated in Pydantic V2.0 to be removed in V3.0. See Pydantic V2 Migration Guide at https://errors.pydantic.dev/2.9/migration/\n",
      "  @root_validator(pre=True)\n"
     ]
    }
   ],
   "source": [
    "# Pydantic model for extracting education\n",
    "class Education(BaseModel):\n",
    "    institution: Optional[str] = Field(\n",
    "        None, description=\"The name of the educational institution\"\n",
    "    )\n",
    "    degree: Optional[str] = Field(\n",
    "        None, description=\"The degree or qualification earned\"\n",
    "    )\n",
    "    graduation_date: Optional[str] = Field(\n",
    "        None, description=\"The graduation date (e.g., 'YYYY-MM')\"\n",
    "    )\n",
    "    details: Optional[List[str]] = Field(\n",
    "        None,\n",
    "        description=\"Additional details about the education (e.g., coursework, achievements)\",\n",
    "    )\n",
    "\n",
    "    @field_validator(\"details\", mode=\"before\")\n",
    "    def validate_details(cls, v):\n",
    "        if isinstance(v, str) and v.lower() == \"n/a\":\n",
    "            return []\n",
    "        elif not isinstance(v, list):\n",
    "            return []\n",
    "        return v\n",
    "\n",
    "\n",
    "# Pydantic model for extracting experience\n",
    "class Experience(BaseModel):\n",
    "    company: Optional[str] = Field(\n",
    "        None, description=\"The name of the company or organization\"\n",
    "    )\n",
    "    location: Optional[str] = Field(\n",
    "        None, description=\"The location of the company or organization\"\n",
    "    )\n",
    "    role: Optional[str] = Field(\n",
    "        None, description=\"The role or job title held by the candidate\"\n",
    "    )\n",
    "    start_date: Optional[str] = Field(\n",
    "        None, description=\"The start date of the job (e.g., 'YYYY-MM')\"\n",
    "    )\n",
    "    end_date: Optional[str] = Field(\n",
    "        None,\n",
    "        description=\"The end date of the job or 'Present' if ongoing (e.g., 'MM-YYYY')\",\n",
    "    )\n",
    "    responsibilities: Optional[List[str]] = Field(\n",
    "        None, description=\"A list of responsibilities and tasks handled during the job\"\n",
    "    )\n",
    "\n",
    "    @field_validator(\"responsibilities\", mode=\"before\")\n",
    "    def validate_responsibilities(cls, v):\n",
    "        if isinstance(v, str) and v.lower() == \"n/a\":\n",
    "            return []\n",
    "        elif not isinstance(v, list):\n",
    "            return []\n",
    "        return v\n",
    "\n",
    "\n",
    "# Main Pydantic class ensapsulating education and epxerience classes with other information\n",
    "class Candidate(BaseModel):\n",
    "    name: Optional[str] = Field(None, description=\"The full name of the candidate\")\n",
    "    email: Optional[EmailStr] = Field(None, description=\"The email of the candidate\")\n",
    "    age: Optional[int] = Field(None, description=\"The age of the candidate.\")\n",
    "    skills: Optional[List[str]] = Field(\n",
    "        None, description=\"A list of high-level skills possessed by the candidate.\"\n",
    "    )\n",
    "    experience: Optional[List[Experience]] = Field(\n",
    "        None,\n",
    "        description=\"A list of experiences detailing previous jobs, roles, and responsibilities\",\n",
    "    )\n",
    "    education: Optional[List[Education]] = Field(\n",
    "        None,\n",
    "        description=\"A list of educational qualifications of the candidate including degrees, institutions studied in, and dates of start and end.\",\n",
    "    )\n",
    "\n",
    "class CandidateExperience(BaseModel):\n",
    "    experience: Optional[List[Experience]] = Field(\n",
    "        None,\n",
    "        description=\"A list of experiences detailing previous jobs, roles, and responsibilities\",\n",
    "    )\n",
    "    \n",
    "\n",
    "class CandidateEducation(BaseModel):\n",
    "    education: Optional[List[Education]] = Field(\n",
    "        None,\n",
    "        description=\"A list of educational qualifications of the candidate including degrees, institutions studied in, and dates of start and end.\",\n",
    "    )\n",
    "\n",
    "\n",
    "    @root_validator(pre=True)\n",
    "    def handle_invalid_values(cls, values):\n",
    "        for key, value in values.items():\n",
    "            if isinstance(value, str) and value.lower() in {\"n/a\", \"none\", \"\"}:\n",
    "                values[key] = None\n",
    "        return values"
   ]
  },
  {
   "cell_type": "code",
   "execution_count": 10,
   "metadata": {},
   "outputs": [],
   "source": [
    "# And a query intented to prompt a language model to populate the data structure.\n",
    "joke_query = \"Tell me a joke.\"\n",
    "resume = \"Dang Quang Dung\\nanhdungvk01@gmail.com\\n0869040236\\nLinkedin\\nGithub\\nCau Giay - Ha Noi\\nProfile\\nInﬁveyears’time,IwanttobecomeanAIEngineer.MystartingpointistobeginthispositionasaSoftwareEngineer.\\nEducation\\n09/2019–05/2024 PostsandTelecommunicationsInstituteofTechnology .\\nInformationTechnology\\nGPA3.31/4.0\\nResearch Interests\\nNaturalLanguageProcessing(NLP),MachineLearningandDeepLearning.\\nWord Experience\\nMasterTraineratCentreforDevelopmentofAdvancedComputing(C-DAC),India(09/2024-\\npresent)\\n•ParticipateinArtiﬁcialIntelligence&DataScience:PG-DBDA-PostGraduateDiplomainBigData\\nAnalytics\\nAIResearcheratReseachInstituteofPostsandTelecommunications(RIPT)-PTIT(08/2024-\\npresent)\\n•Researchandwritingpaper\\n•BuildachatbotsystemusingRAGtechniques,FunctionCallingwithLLMs\\nSoftwareAIEngineeratA.I-SoftJSC(02/2023-08/2024)\\n•Buildwebsitesforresearchtopics.\\n•Buildachatbotsystemtosupportenrollment(End-to-End)usingRasaandBotpressFramework.\\n•Buildacrawldatamodule,dataanalysisusingBERTopicforsocialnetworklisteningsystem.\\n•ResearchpaperaboutAIandNaturalLanguageProcessingandapplytousedsoftwareproducts.\\n•Buildachatbotsystemtosupportenrollment(End-to-End)withLLMsusingRAG\\n(Retrieval-AugmentedGeneration)techniqueswithLangChainandLlamaIndexFramework.\\nSkills\\nLanguages English,Vietnamese(nativespeaker)\\nCoding Python,Linux,SQL,FastAPI,Docker,...\\nDatabases My sql,MongoDB,FAISS,Chroma...\\nWebDev Html, css ,JavaScript,Reactjs,Antdesign,MUI...\\nSkills (continued)\\nOpen-sourceNLPTools Transformers(HuggingFace),spaCy,scikit-learn,Gensim,NLTK,BERTopic,\\nRasa,Botpress,Langchain,LlamaIndex...\\nDeepLearningFrameworks TensorFlow,Keras,PyTorch\\nMisc. Research Skills, Problem Solving, Report Writing, Teamwork and Indepen-\\ndently,DataStructuresandAlgorithms,DataVisualization(Tableau,Excel)\\nScientific research achievements\\nPublished scientific articles\\n2024 An intent-ﬁltered retrieval-augmented generation chatbot for university admissions in\\nVietnam .InternationalConferenceOnAdvancedTechnologiesForCommunications.\\nMiscellaneous Experience\\nCertification\\n11/2021 APPLICATIONSOFALGORITHM .byPostsandTelecommunicationsInstituteofTechnology\\nandSamsungElectronicsVietnamCompanyLimited.\\n09/2022 Toeic605 .byIIGVietNam.\"\n",
    "\n",
    "# Set up a parser + inject instructions into the prompt template.\n",
    "parser = JsonOutputParser(pydantic_object=Candidate)\n",
    "\n",
    "prompt = PromptTemplate(\n",
    "    template=\"\"\" You are an expert in extract and analyzing resumes. Use formart of the JSON Candidate schema below to extract relevant information json.\n",
    "    \\n{format_instructions}\\n{resume}\\n\n",
    "    NOTE: Skills must be is list string or None\\n\n",
    "    Answer the user json resume\\n\"\"\",\n",
    "    input_variables=[\"resume\"],\n",
    "    partial_variables={\"format_instructions\": parser.get_format_instructions()},\n",
    ")\n",
    "\n",
    "chain = prompt | model | parser\n",
    "\n",
    "# res = chain.invoke({\"resume\": resume})"
   ]
  },
  {
   "cell_type": "code",
   "execution_count": 106,
   "metadata": {},
   "outputs": [
    {
     "data": {
      "text/plain": [
       "{'$defs': {'Education': {'properties': {'institution': {'anyOf': [{'type': 'string'},\n",
       "      {'type': 'null'}],\n",
       "     'default': None},\n",
       "    'degree': {'anyOf': [{'type': 'string'}, {'type': 'null'}],\n",
       "     'default': None},\n",
       "    'graduation_date': {'anyOf': [{'type': 'string'}, {'type': 'null'}],\n",
       "     'default': None},\n",
       "    'details': {'anyOf': [{'items': {'type': 'string'}, 'type': 'array'},\n",
       "      {'type': 'null'}],\n",
       "     'default': None}},\n",
       "   'title': 'Education',\n",
       "   'type': 'object'},\n",
       "  'Experience': {'properties': {'company': {'anyOf': [{'type': 'string'},\n",
       "      {'type': 'null'}],\n",
       "     'default': None},\n",
       "    'location': {'anyOf': [{'type': 'string'}, {'type': 'null'}],\n",
       "     'default': None},\n",
       "    'role': {'anyOf': [{'type': 'string'}, {'type': 'null'}], 'default': None},\n",
       "    'start_date': {'anyOf': [{'type': 'string'}, {'type': 'null'}],\n",
       "     'default': None},\n",
       "    'end_date': {'anyOf': [{'type': 'string'}, {'type': 'null'}],\n",
       "     'default': None},\n",
       "    'responsibilities': {'anyOf': [{'items': {'type': 'string'},\n",
       "       'type': 'array'},\n",
       "      {'type': 'null'}],\n",
       "     'default': None}},\n",
       "   'title': 'Experience',\n",
       "   'type': 'object'}},\n",
       " 'name': {'anyOf': [{'type': 'string'}, {'type': 'null'}],\n",
       "  'default': None,\n",
       "  'description': 'The full name of the candidate',\n",
       "  'title': 'Linkedin'},\n",
       " 'email': {'anyOf': [{'type': 'string'}, {'type': 'null'}],\n",
       "  'default': None,\n",
       "  'description': 'Email address',\n",
       "  'title': 'andhdungvk01@gmail.com'},\n",
       " 'phone': {'anyOf': [{'type': 'string'}, {'type': 'null'}],\n",
       "  'default': None,\n",
       "  'description': 'Phone number',\n",
       "  'title': '0869040236'},\n",
       " 'Skills': {'properties': {'Languages': {'anyOf': [{'type': 'list'},\n",
       "     {'type': 'null'}]},\n",
       "   'Coding': {'anyOf': [{'type': 'list'}, {'type': 'null'}]},\n",
       "   'Databases': {'anyOf': [{'type': 'list'}, {'type': 'null'}]},\n",
       "   'WebDev': {'anyOf': [{'type': 'list'}, {'type': 'null'}]},\n",
       "   'Skills (continued)': {'anyOf': [{'type': 'list'}, {'type': 'null'}]},\n",
       "   'Open-sourceNLPTools': {'anyOf': [{'type': 'list'}, {'type': 'null'}]},\n",
       "   'DeepLearningFrameworks': {'anyOf': [{'type': 'list'}, {'type': 'null'}]}},\n",
       "  'title': 'Skills',\n",
       "  'type': 'object'}}"
      ]
     },
     "execution_count": 106,
     "metadata": {},
     "output_type": "execute_result"
    }
   ],
   "source": [
    "res"
   ]
  },
  {
   "cell_type": "code",
   "execution_count": 98,
   "metadata": {},
   "outputs": [],
   "source": [
    "# Set up a parser + inject instructions into the prompt template.\n",
    "parser_experience = JsonOutputParser(pydantic_object=CandidateExperience)\n",
    "\n",
    "prompt_experience = PromptTemplate(\n",
    "    template=\"\"\" You are an expert in extract and analyzing resumes. Use formart of the JSON CandidateExperience schema below to extract relevant information json.\n",
    "    \\n{format_instructions}\\n{resume}\\n\n",
    "    Answer the user json resume\\n\"\"\",\n",
    "    input_variables=[\"resume\"],\n",
    "    partial_variables={\"format_instructions\": parser_experience.get_format_instructions()},\n",
    ")\n",
    "\n",
    "chain = prompt_experience | model | parser_experience\n",
    "\n",
    "res_experience = chain.invoke({\"resume\": resume})"
   ]
  },
  {
   "cell_type": "code",
   "execution_count": 99,
   "metadata": {},
   "outputs": [
    {
     "data": {
      "text/plain": [
       "{'$defs': {'Experience': {'properties': {'company': {'anyOf': [{'type': 'string'},\n",
       "      {'type': 'null'}],\n",
       "     'default': None,\n",
       "     'description': 'The name of the company or organization',\n",
       "     'title': 'Company'},\n",
       "    'location': {'anyOf': [{'type': 'string'}, {'type': 'null'}],\n",
       "     'default': None,\n",
       "     'description': 'The location of the company or organization',\n",
       "     'title': 'Location'},\n",
       "    'role': {'anyOf': [{'type': 'string'}, {'type': 'null'}],\n",
       "     'default': None,\n",
       "     'description': 'The role or job title held by the candidate',\n",
       "     'title': 'Role'},\n",
       "    'start_date': {'anyOf': [{'type': 'string'}, {'type': 'null'}],\n",
       "     'default': None,\n",
       "     'description': \"The start date of the job (e.g., 'YYYY-MM')\",\n",
       "     'title': 'Start Date'},\n",
       "    'end_date': {'anyOf': [{'type': 'string'}, {'type': 'null'}],\n",
       "     'default': None,\n",
       "     'description': \"The end date of the job or 'Present' if ongoing (e.g., 'MM-YYYY')\",\n",
       "     'title': 'End Date'},\n",
       "    'responsibilities': {'anyOf': [{'items': {'type': 'string'},\n",
       "       'type': 'array'},\n",
       "      {'type': 'null'}],\n",
       "     'default': None,\n",
       "     'description': 'A list of responsibilities and tasks handled during the job',\n",
       "     'title': 'Responsibilities'}},\n",
       "   'title': 'Experience',\n",
       "   'type': 'object'}},\n",
       " 'properties': {'experience': [{'company': 'CentreforDevelopmentofAdvancedComputing (C-DAC), India',\n",
       "    'location': 'Cau Giay - Ha Noi',\n",
       "    'role': 'Master Trainer',\n",
       "    'start_date': '09/2024-present',\n",
       "    'end_date': None,\n",
       "    'responsibilities': ['Participate in Artificial Intelligence & Data Science: PG-DBDA-Post Graduate Diplomain Big Data Analytics']},\n",
       "   {'company': 'Research Institute of Posts and Telecommunications (RIPT) - PTIT',\n",
       "    'location': 'Hanoi',\n",
       "    'role': 'AI Researcher',\n",
       "    'start_date': '08/2024-present',\n",
       "    'end_date': None,\n",
       "    'responsibilities': ['Research and writing paper',\n",
       "     'Build a chatbot system using RAG techniques, Function Calling with LLMs']},\n",
       "   {'company': 'A.I-Soft JSC',\n",
       "    'location': '',\n",
       "    'role': 'Software AI Engineer',\n",
       "    'start_date': '02/2023-08/2024',\n",
       "    'end_date': None,\n",
       "    'responsibilities': ['Build websites for research topics.',\n",
       "     'Build a chatbot system to support enrollment (End-to-End) using Rasa and Botpress Framework.']}],\n",
       "  'education': {'company': 'Posts and Telecommunications Institute of Technology',\n",
       "   'location': 'Hanoi',\n",
       "   'role': 'Student',\n",
       "   'start_date': '09/2019',\n",
       "   'end_date': '05/2024',\n",
       "   'responsibilities': ['Information Technology'],\n",
       "   'title': 'Graduated with GPA 3.31/4.0'},\n",
       "  'skills': {'properties': {'coding_skills': {'anyOf': [{'items': {'type': 'string'},\n",
       "       'type': 'array'},\n",
       "      {'type': 'null'}],\n",
       "     'default': None,\n",
       "     'description': 'A list of programming languages and technologies',\n",
       "     'title': 'Coding Skills'},\n",
       "    'databases': {'anyOf': [{'items': {'type': 'string'}, 'type': 'array'},\n",
       "      {'type': 'null'}],\n",
       "     'default': None,\n",
       "     'description': 'A list of databases',\n",
       "     'title': 'Databases'},\n",
       "    'web_dev_skills': {'anyOf': [{'items': {'type': 'string'},\n",
       "       'type': 'array'},\n",
       "      {'type': 'null'}],\n",
       "     'default': None,\n",
       "     'description': 'A list of web development skills and technologies',\n",
       "     'title': 'Web Dev Skills'}},\n",
       "   'title': 'Skills',\n",
       "   'type': 'object'}},\n",
       " 'scientific_research_achievements': {'properties': {'published_articles': {'anyOf': [{'items': {'type': 'string'},\n",
       "      'type': 'array'},\n",
       "     {'type': 'null'}],\n",
       "    'default': None,\n",
       "    'description': 'A list of published scientific articles',\n",
       "    'title': 'Published Articles'}},\n",
       "  'title': 'Scientific Research Achievements',\n",
       "  'type': 'object'},\n",
       " 'certifications': {'properties': {'certification_name': {'anyOf': [{'items': {'type': 'string'},\n",
       "      'type': 'array'},\n",
       "     {'type': 'null'}],\n",
       "    'default': None,\n",
       "    'description': 'A list of certifications',\n",
       "    'title': 'Certifications'}},\n",
       "  'title': 'Certifications',\n",
       "  'type': 'object'}}"
      ]
     },
     "execution_count": 99,
     "metadata": {},
     "output_type": "execute_result"
    }
   ],
   "source": [
    "res_experience"
   ]
  },
  {
   "cell_type": "code",
   "execution_count": 16,
   "metadata": {},
   "outputs": [],
   "source": [
    "response = {'name': 'Dang Quang Dung',\n",
    " 'email': 'anhdungvk01@gmail.com',\n",
    " 'age': 29,\n",
    " 'skills': {'Open-source NLP Tools': ['Transformers(HuggingFace)',\n",
    "   'spaCy',\n",
    "   'scikit-learn',\n",
    "   'Gensim',\n",
    "   'NLTK',\n",
    "   'BERTopic'],\n",
    "  'Deep Learning Frameworks': ['TensorFlow', 'Keras', 'PyTorch']},\n",
    " 'experience': [{'company': 'CentreforDevelopmentofAdvancedComputing (C-DAC), India',\n",
    "   'location': 'Cau Giay - Ha Noi',\n",
    "   'role': 'Master Trainer',\n",
    "   'start_date': None,\n",
    "   'end_date': None,\n",
    "   'responsibilities': ['Participate in Artificial Intelligence & Data Science: PG-DBDA-PostGraduateDiplomainBigData Analytics']},\n",
    "  {'company': 'ResearchInstituteofPostsandTelecommunications (RIPT)-PTIT',\n",
    "   'location': None,\n",
    "   'role': 'AI Researcher',\n",
    "   'start_date': None,\n",
    "   'end_date': None,\n",
    "   'responsibilities': ['Research and writing paper',\n",
    "    'Build a chatbot system using RAG techniques, Function Calling with LLMs']},\n",
    "  {'company': 'A.I-SoftJSC',\n",
    "   'location': None,\n",
    "   'role': 'Software AI Engineer',\n",
    "   'start_date': '02/2023',\n",
    "   'end_date': '08/2024',\n",
    "   'responsibilities': ['Build websites for research topics.',\n",
    "    'Build a chatbot system to support enrollment (End-to-End) using Rasa and Botpress Framework.']}],\n",
    " 'education': [{'institution': 'PostsandTelecommunicationsInstituteofTechnology',\n",
    "   'degree': 'Information Technology',\n",
    "   'graduation_date': '09/2019–05/2024',\n",
    "   'details': ['GPA3.31/4.0',\n",
    "    'Research Interests: NaturalLanguageProcessing(NLP),MachineLearningandDeepLearning.']}],\n",
    " 'scientific research achievements': {'Published scientific articles': ['2024 An intent-ﬁltered retrieval-augmented generation chatbot for university admissions in Vietnam. InternationalConferenceOnAdvancedTechnologiesForCommunications.']}}"
   ]
  },
  {
   "cell_type": "code",
   "execution_count": 53,
   "metadata": {},
   "outputs": [],
   "source": [
    "# Set up a parser + inject instructions into the prompt template.\n",
    "parser = JsonOutputParser(pydantic_object=Candidate)\n",
    "\n",
    "prompt = PromptTemplate(\n",
    "    template=\"\"\" You are an expert in repair invalid JSON by errors. Use the JSON formart correct to repair invalid json.\n",
    "    \\n{format_instructions}\\n, Error: {error} and json invalid: {json_invalid}\\n\n",
    "    Answer the JSON format correct\\n\"\"\",\n",
    "    input_variables=[\"json_invalid\", \"error\"],\n",
    "    partial_variables={\"format_instructions\": parser.get_format_instructions()},\n",
    ")\n",
    "\n",
    "chain = prompt | model | parser"
   ]
  },
  {
   "cell_type": "code",
   "execution_count": 74,
   "metadata": {},
   "outputs": [],
   "source": [
    "import json\n",
    "# parsed_data = json.loads(response)\n",
    "try:\n",
    "    # res = chain.invoke({\"json_invalid\": response})\n",
    "    parsed_data = res\n",
    "    response = Candidate.model_validate(parsed_data)\n",
    "except Exception as e:\n",
    "    error = e\n",
    "    # res_repair = chain.invoke({\"json_invalid\": response, \"error\": error})\n",
    "    print(f\"Error parsing response: {str(e)}\")\n",
    "finally:\n",
    "    response = Candidate.model_validate(parsed_data)"
   ]
  },
  {
   "cell_type": "code",
   "execution_count": 75,
   "metadata": {},
   "outputs": [
    {
     "data": {
      "text/plain": [
       "Candidate(name=None, email=None, age=None, skills=None, experience=None, education=None)"
      ]
     },
     "execution_count": 75,
     "metadata": {},
     "output_type": "execute_result"
    }
   ],
   "source": [
    "response"
   ]
  },
  {
   "cell_type": "code",
   "execution_count": 54,
   "metadata": {},
   "outputs": [],
   "source": [
    "res_repair = chain.invoke({\"json_invalid\": response, \"error\": str(error)})"
   ]
  },
  {
   "cell_type": "code",
   "execution_count": 55,
   "metadata": {},
   "outputs": [
    {
     "data": {
      "text/plain": [
       "{'name': 'Dang Quang Dung',\n",
       " 'email': 'anhdungvk01@gmail.com',\n",
       " 'age': 29,\n",
       " 'skills': ['Open-source NLP Tools: Transformers(HuggingFace), spaCy, scikit-learn, Gensim, NLTK, BERTopic',\n",
       "  'Deep Learning Frameworks: TensorFlow, Keras, PyTorch'],\n",
       " 'experience': [{'company': 'CentreforDevelopmentofAdvancedComputing (C-DAC), India',\n",
       "   'location': 'Cau Giay - Ha Noi',\n",
       "   'role': 'Master Trainer',\n",
       "   'start_date': None,\n",
       "   'end_date': None,\n",
       "   'responsibilities': ['Participate in Artificial Intelligence & Data Science: PG-DBDA-PostGraduateDiplomainBigData Analytics']},\n",
       "  {'company': 'ResearchInstituteofPostsandTelecommunications (RIPT)-PTIT',\n",
       "   'location': None,\n",
       "   'role': 'AI Researcher',\n",
       "   'start_date': None,\n",
       "   'end_date': None,\n",
       "   'responsibilities': ['Research and writing paper',\n",
       "    'Build a chatbot system using RAG techniques, Function Calling with LLMs']},\n",
       "  {'company': 'A.I-SoftJSC',\n",
       "   'location': None,\n",
       "   'role': 'Software AI Engineer',\n",
       "   'start_date': '02/2023',\n",
       "   'end_date': '08/2024',\n",
       "   'responsibilities': ['Build websites for research topics.',\n",
       "    'Build a chatbot system to support enrollment (End-to-End) using Rasa and Botpress Framework.']}],\n",
       " 'education': [{'institution': 'PostsandTelecommunicationsInstituteofTechnology',\n",
       "   'degree': 'Information Technology',\n",
       "   'graduation_date': '09/2019–05/2024',\n",
       "   'details': ['GPA3.31/4.0',\n",
       "    'Research Interests: NaturalLanguageProcessing(NLP),MachineLearningandDeepLearning.']}],\n",
       " 'scientific research achievements': {'Published scientific articles': ['2024 An intent-ﬁltered retrieval-augmented generation chatbot for university admissions in Vietnam. InternationalConferenceOnAdvancedTechnologiesForCommunications.']}}"
      ]
     },
     "execution_count": 55,
     "metadata": {},
     "output_type": "execute_result"
    }
   ],
   "source": [
    "res_repair"
   ]
  },
  {
   "cell_type": "code",
   "execution_count": 57,
   "metadata": {},
   "outputs": [
    {
     "data": {
      "text/plain": [
       "Candidate(name='Dang Quang Dung', email='anhdungvk01@gmail.com', age=29, skills=['Open-source NLP Tools: Transformers(HuggingFace), spaCy, scikit-learn, Gensim, NLTK, BERTopic', 'Deep Learning Frameworks: TensorFlow, Keras, PyTorch'], experience=[Experience(company='CentreforDevelopmentofAdvancedComputing (C-DAC), India', location='Cau Giay - Ha Noi', role='Master Trainer', start_date=None, end_date=None, responsibilities=['Participate in Artificial Intelligence & Data Science: PG-DBDA-PostGraduateDiplomainBigData Analytics']), Experience(company='ResearchInstituteofPostsandTelecommunications (RIPT)-PTIT', location=None, role='AI Researcher', start_date=None, end_date=None, responsibilities=['Research and writing paper', 'Build a chatbot system using RAG techniques, Function Calling with LLMs']), Experience(company='A.I-SoftJSC', location=None, role='Software AI Engineer', start_date='02/2023', end_date='08/2024', responsibilities=['Build websites for research topics.', 'Build a chatbot system to support enrollment (End-to-End) using Rasa and Botpress Framework.'])], education=[Education(institution='PostsandTelecommunicationsInstituteofTechnology', degree='Information Technology', graduation_date='09/2019–05/2024', details=['GPA3.31/4.0', 'Research Interests: NaturalLanguageProcessing(NLP),MachineLearningandDeepLearning.'])])"
      ]
     },
     "execution_count": 57,
     "metadata": {},
     "output_type": "execute_result"
    }
   ],
   "source": []
  },
  {
   "cell_type": "code",
   "execution_count": null,
   "metadata": {},
   "outputs": [],
   "source": [
    "chain.invoke({\"query\": joke_query})"
   ]
  },
  {
   "cell_type": "code",
   "execution_count": 11,
   "metadata": {},
   "outputs": [],
   "source": [
    "parser = JsonOutputParser(pydantic_object=Candidate)\n",
    "\n",
    "prompt = PromptTemplate(\n",
    "    template=\"\"\" You are an expert in analyzing resumes. Use the following JSON schema to extract relevant information.\n",
    "    Answer the user resume.\\n{format_instructions}\\n{resume}\\n\"\"\",\n",
    "    input_variables=[\"resume\"],\n",
    "    partial_variables={\"format_instructions\": parser.get_format_instructions()},\n",
    ")\n",
    "response = None\n",
    "is_error = False\n",
    "errors = None\n",
    "chain = prompt | llm | parser\n",
    "try:\n",
    "    response = chain.invoke({\"resume\": resume})\n",
    "    if not response or not response:\n",
    "        raise ValueError(\"Failed to get a response from LLM.\")\n",
    "\n",
    "    parsed_data = response\n",
    "    response = Candidate.model_validate(parsed_data)\n",
    "except Exception as e:\n",
    "    print(f\"Error parsing response: {str(e)}\")\n",
    "    errors = e\n",
    "\n",
    "    raise ValueError(\n",
    "        \"Failed to extract insights. Please ensure the resume and query engine are properly configured.\"\n",
    "    )\n"
   ]
  },
  {
   "cell_type": "code",
   "execution_count": 12,
   "metadata": {},
   "outputs": [
    {
     "data": {
      "text/plain": [
       "{'name': 'Dang Quang Dung',\n",
       " 'email': 'anhdungvk01@gmail.com',\n",
       " 'age': None,\n",
       " 'skills': ['English',\n",
       "  'Vietnamese (native speaker)',\n",
       "  'Python',\n",
       "  'Linux',\n",
       "  'SQL',\n",
       "  'FastAPI',\n",
       "  'Docker',\n",
       "  'MySQL',\n",
       "  'MongoDB',\n",
       "  'FAISS',\n",
       "  'Chroma',\n",
       "  'HTML',\n",
       "  'CSS',\n",
       "  'JavaScript',\n",
       "  'ReactJS',\n",
       "  'Ant Design',\n",
       "  'MUI',\n",
       "  'Transformers (Hugging Face)',\n",
       "  'spaCy',\n",
       "  'scikit-learn',\n",
       "  'Gensim',\n",
       "  'NLTK',\n",
       "  'BERTopic',\n",
       "  'Rasa',\n",
       "  'Botpress',\n",
       "  'Langchain',\n",
       "  'LlamaIndex',\n",
       "  'TensorFlow',\n",
       "  'Keras',\n",
       "  'PyTorch',\n",
       "  'Research Skills',\n",
       "  'Problem Solving',\n",
       "  'Report Writing',\n",
       "  'Teamwork',\n",
       "  'Data Structures and Algorithms',\n",
       "  'Data Visualization (Tableau, Excel)'],\n",
       " 'experience': [{'company': 'Centre for Development of Advanced Computing (C-DAC)',\n",
       "   'location': 'India',\n",
       "   'role': 'Master Trainer',\n",
       "   'start_date': '2024-09',\n",
       "   'end_date': 'Present',\n",
       "   'responsibilities': ['Participate in Artificial Intelligence & Data Science: PG-DBDA - Post Graduate Diploma in Big Data Analytics']},\n",
       "  {'company': 'Research Institute of Posts and Telecommunications (RIPT)-PTIT',\n",
       "   'location': None,\n",
       "   'role': 'AI Researcher',\n",
       "   'start_date': '2024-08',\n",
       "   'end_date': 'Present',\n",
       "   'responsibilities': ['Research and writing paper',\n",
       "    'Build a chatbot system using RAG techniques, Function Calling with LLMs']},\n",
       "  {'company': 'A.I-Soft JSC',\n",
       "   'location': None,\n",
       "   'role': 'Software AI Engineer',\n",
       "   'start_date': '2023-02',\n",
       "   'end_date': '2024-08',\n",
       "   'responsibilities': ['Build websites for research topics',\n",
       "    'Build a chatbot system to support enrollment (End-to-End) using Rasa and Botpress Framework',\n",
       "    'Build a crawl data module, data analysis using BERTopic for social network listening system',\n",
       "    'Research paper about AI and Natural Language Processing and apply to used software products',\n",
       "    'Build a chatbot system to support enrollment (End-to-End) with LLMs using RAG techniques with LangChain and LlamaIndex Framework']}],\n",
       " 'education': [{'institution': 'Posts and Telecommunications Institute of Technology',\n",
       "   'degree': 'Information Technology',\n",
       "   'graduation_date': '2024-05',\n",
       "   'details': ['GPA 3.31/4.0']}]}"
      ]
     },
     "execution_count": 12,
     "metadata": {},
     "output_type": "execute_result"
    }
   ],
   "source": [
    "parsed_data"
   ]
  },
  {
   "cell_type": "code",
   "execution_count": 13,
   "metadata": {},
   "outputs": [
    {
     "data": {
      "text/plain": [
       "Candidate(name='Dang Quang Dung', email='anhdungvk01@gmail.com', age=None, skills=['English', 'Vietnamese (native speaker)', 'Python', 'Linux', 'SQL', 'FastAPI', 'Docker', 'MySQL', 'MongoDB', 'FAISS', 'Chroma', 'HTML', 'CSS', 'JavaScript', 'ReactJS', 'Ant Design', 'MUI', 'Transformers (Hugging Face)', 'spaCy', 'scikit-learn', 'Gensim', 'NLTK', 'BERTopic', 'Rasa', 'Botpress', 'Langchain', 'LlamaIndex', 'TensorFlow', 'Keras', 'PyTorch', 'Research Skills', 'Problem Solving', 'Report Writing', 'Teamwork', 'Data Structures and Algorithms', 'Data Visualization (Tableau, Excel)'], experience=[Experience(company='Centre for Development of Advanced Computing (C-DAC)', location='India', role='Master Trainer', start_date='2024-09', end_date='Present', responsibilities=['Participate in Artificial Intelligence & Data Science: PG-DBDA - Post Graduate Diploma in Big Data Analytics']), Experience(company='Research Institute of Posts and Telecommunications (RIPT)-PTIT', location=None, role='AI Researcher', start_date='2024-08', end_date='Present', responsibilities=['Research and writing paper', 'Build a chatbot system using RAG techniques, Function Calling with LLMs']), Experience(company='A.I-Soft JSC', location=None, role='Software AI Engineer', start_date='2023-02', end_date='2024-08', responsibilities=['Build websites for research topics', 'Build a chatbot system to support enrollment (End-to-End) using Rasa and Botpress Framework', 'Build a crawl data module, data analysis using BERTopic for social network listening system', 'Research paper about AI and Natural Language Processing and apply to used software products', 'Build a chatbot system to support enrollment (End-to-End) with LLMs using RAG techniques with LangChain and LlamaIndex Framework'])], education=[Education(institution='Posts and Telecommunications Institute of Technology', degree='Information Technology', graduation_date='2024-05', details=['GPA 3.31/4.0'])])"
      ]
     },
     "execution_count": 13,
     "metadata": {},
     "output_type": "execute_result"
    }
   ],
   "source": [
    "response"
   ]
  },
  {
   "cell_type": "code",
   "execution_count": 18,
   "metadata": {},
   "outputs": [],
   "source": [
    "insights = response"
   ]
  },
  {
   "cell_type": "code",
   "execution_count": 16,
   "metadata": {},
   "outputs": [],
   "source": [
    "from langchain_huggingface import HuggingFaceEmbeddings"
   ]
  },
  {
   "cell_type": "code",
   "execution_count": 17,
   "metadata": {},
   "outputs": [
    {
     "name": "stderr",
     "output_type": "stream",
     "text": [
      "c:\\Users\\Admin\\anaconda3\\envs\\langchain-chatbot\\lib\\site-packages\\tqdm\\auto.py:21: TqdmWarning: IProgress not found. Please update jupyter and ipywidgets. See https://ipywidgets.readthedocs.io/en/stable/user_install.html\n",
      "  from .autonotebook import tqdm as notebook_tqdm\n"
     ]
    }
   ],
   "source": [
    "from langchain_community.vectorstores import FAISS\n",
    "job_index = FAISS.load_local(\n",
    "    folder_path='../Multiple_models/job_index_3k',\n",
    "    embeddings=HuggingFaceEmbeddings(model_name=\"BAAI/bge-small-en-v1.5\"),\n",
    "    allow_dangerous_deserialization=True,\n",
    ")"
   ]
  },
  {
   "cell_type": "code",
   "execution_count": 19,
   "metadata": {},
   "outputs": [
    {
     "name": "stdout",
     "output_type": "stream",
     "text": [
      "['Information Technology']\n",
      "=========\n",
      "['English', 'Vietnamese (native speaker)', 'Python', 'Linux', 'SQL', 'FastAPI', 'Docker', 'MySQL', 'MongoDB', 'FAISS', 'Chroma', 'HTML', 'CSS', 'JavaScript', 'ReactJS', 'Ant Design', 'MUI', 'Transformers (Hugging Face)', 'spaCy', 'scikit-learn', 'Gensim', 'NLTK', 'BERTopic', 'Rasa', 'Botpress', 'Langchain', 'LlamaIndex', 'TensorFlow', 'Keras', 'PyTorch', 'Research Skills', 'Problem Solving', 'Report Writing', 'Teamwork', 'Data Structures and Algorithms', 'Data Visualization (Tableau, Excel)']\n",
      "========\n",
      "['Master Trainer', 'AI Researcher', 'Software AI Engineer']\n"
     ]
    }
   ],
   "source": [
    "education = (\n",
    "    [edu.degree for edu in insights.education]\n",
    "    if insights.education\n",
    "    else []\n",
    ")\n",
    "skills = insights.skills or []\n",
    "experience = (\n",
    "    [exp.role for exp in insights.experience]\n",
    "    if insights.experience\n",
    "    else []\n",
    ")\n",
    "print(education)\n",
    "print(\"=========\")\n",
    "print(skills)\n",
    "print(\"========\")\n",
    "print(experience)"
   ]
  },
  {
   "cell_type": "code",
   "execution_count": 22,
   "metadata": {},
   "outputs": [
    {
     "data": {
      "text/plain": [
       "[Document(metadata={'source': None, 'seq_num': 67, 'id': 136592, 'title': 'Receptionist', 'branch': None, 'company': 'OfficeTeam', 'location': 'San Bruno, CA', 'salaryRange': None, 'employmentType': 'Seasonal/Temp', 'datePosted': '2014-12-23 13:18:35 UTC'}, page_content=\"Receptionist, Seasonal/Temp, Salary ($ per hour/ day) nan, in San Bruno, CA, education requiredNot Specified, Company OfficeTeam\\n\\n Ref ID: 00430-135580Classification: Receptionist/SwitchboardCompensation: $14.00 to $15.00 per hourOfficeTeam is the world's leading staffing service specializing in the placement of highly skilled office and administrative support professionals on a temporary and temporary to full-time basis. OfficeTeam is recruiting for Super Star Front Desk Coordinator that has an interest in Education for a private school! Our client is looking for a Front Desk Coordinator to be the first point of contact for their school. You will be helping with greeting parents, taking care of enrollment papers, calendar management for the Director. Answering phones and be able to multi task. Main duties: Answer phones Greet parents and visitors Respond quickly and professionally to internal and external requests Provide exceptional customer service Calendar Management for the Director Requirements: 1-3+ years of work experience Working knowledge of Microsoft Suite: Word, Excel, Outlook, PowerPoint Detail Oriented Accountable, accurate, organized and disciplined Able to multi-task Excellent verbal and written communication Hours: 8:30AM - 5:30PM Start Date: ASAP, Jan 2015 Duration: Ongoing, potential temporary to full-time for the right fit Pay Rate: $14.00-$15.00 per hour While working as a contract employee through OfficeTeam, you will have access to benefits, be eligible for holiday pay and bonus pay, have access to complimentary online tutorials and can participate in our 401K program after 52 consecutive weeks of contract employment. ** Please send resume to [Click Here to Email Your Resumé] in Microsoft Word document.\"),\n",
       " Document(metadata={'source': None, 'seq_num': 40, 'id': 136492, 'title': 'Staff Accountant', 'branch': None, 'company': 'Accountemps', 'location': 'Gardena, CA', 'salaryRange': None, 'employmentType': 'Seasonal/Temp', 'datePosted': '2014-12-06 04:29:19 UTC'}, page_content='Staff Accountant, Seasonal/Temp, Salary ($ per hour/ day) nan, in Gardena, CA, education requiredNot Specified, Company Accountemps\\n\\n Ref ID:00460-115590Classification:Accountant - StaffCompensation:$18.64 to $29.00 per hourOur global manufacturing client in the South Bay is seeking an experienced Staff Accountant who is Bilingual Japanese, able to read and write the language, to fill a temporary role. Requirements: Must Have 4 Year Degree 3-5 years of experience Preparing periodic reports Assist with month-end close Assist in preparing budgets Perform financial analysis Prepares forecasts Reconciliation of inventory Knowledge of Oracle is a PLUS Proficient with Excel Term: 2-3 months (temporary) Temp Pay: $18 - $29/hr, DOE Please email Todd Williams at [Click Here to Email Your Resumé] to be considered to join this growing team. APPLY NOW!'),\n",
       " Document(metadata={'source': None, 'seq_num': 52, 'id': 136556, 'title': 'Human Resources Recruiter', 'branch': None, 'company': 'OfficeTeam', 'location': 'Milwaukee, WI', 'salaryRange': None, 'employmentType': 'Seasonal/Temp', 'datePosted': '2014-12-06 04:30:06 UTC'}, page_content='Human Resources Recruiter, Seasonal/Temp, Salary ($ per hour/ day) nan, in Milwaukee, WI, education requiredNot Specified, Company OfficeTeam\\n\\n Ref ID: 04600-120107Classification: Personnel/Human ResourcesCompensation: $16.15 to $18.70 per hourA large Milwaukee based company is looking for an experience recruiter. This person will be responsible for: -Gathering job description details from hiring managers. -Posting open jobs on various medias. -Screening resumes of qualified candidates. -Actively recruiting by using key word searches through various recruiting avenues. -Phone screening candidates. -Scheduling second round interviews with hiring managers. -Generating offer letters. -All employee on boarding. -Assisting with orientation. -Other duties as assigned. This individual must have: -3+ years of recruiting experience. -Ability to build professional relationships with other employees. -Strong attention to detail. -Strong written and verbal communication skills. -Ability to \"think outside the box\". -Working knowledge of Word, Excel, and Outlook. If you are qualified for this position, please contact Office Team at 414-271-4003.'),\n",
       " Document(metadata={'source': None, 'seq_num': 3, 'id': 129, 'title': 'Receptionist', 'branch': None, 'company': 'Mind of Beauty Day Spa', 'location': 'Los Altos, CA', 'salaryRange': 0, 'employmentType': 'Part-Time', 'datePosted': '2014-08-16 15:35:40 UTC'}, page_content='Receptionist, Part-Time, Salary ($ per hour/ day) 0.0, in Los Altos, CA, education requirednan, Company Mind of Beauty Day Spa\\n\\n We are a group of professional massage therapists. We are currently looking for a receptionist who can speak both Mandarin and English fluently. Please apply if you are interested! \\r\\n\\r\\n● Act as a receptionist\\r\\n● Support the staff when needed \\r\\n')]"
      ]
     },
     "execution_count": 22,
     "metadata": {},
     "output_type": "execute_result"
    }
   ],
   "source": [
    "query = f\"Education: {', '.join(education)}; Skills: {', '.join(skills)}; Experience: {', '.join(experience)}\"\n",
    "retriever = job_index.as_retriever(similarity_top_k=3)\n",
    "matching_jobs = retriever.invoke(query)\n",
    "matching_jobs"
   ]
  },
  {
   "cell_type": "code",
   "execution_count": 26,
   "metadata": {},
   "outputs": [],
   "source": [
    "retrieved_context = \"\\n\\n\".join(\n",
    "    [match.page_content for match in matching_jobs]\n",
    ")\n",
    "candidate_details = f\"Education: {', '.join(education)}; Skills: {', '.join(skills)}; Experience: {', '.join(experience)}\""
   ]
  },
  {
   "cell_type": "code",
   "execution_count": null,
   "metadata": {},
   "outputs": [],
   "source": [
    "if is_error:\n",
    "    prompt = PromptTemplate(\n",
    "        template=\"\"\" You are an expert in repair invalid JSON by errors. Use the JSON formart correct to repair invalid json.\n",
    "        \\n{format_instructions}\\n, Error: {error} and json invalid: {json_invalid}\\n\n",
    "        Answer the JSON format correct\\n\"\"\",\n",
    "        input_variables=[\"json_invalid\", \"error\"],\n",
    "        partial_variables={\n",
    "            \"format_instructions\": parser.get_format_instructions()\n",
    "        },\n",
    "    )\n",
    "\n",
    "    chain = prompt | llm | parser\n",
    "    res_repair = chain.invoke({\"json_invalid\": response, \"error\": str(errors)})\n",
    "    # response = Candidate.model_validate(res_repair)\n",
    "    response = res_repair\n",
    "response"
   ]
  },
  {
   "cell_type": "code",
   "execution_count": 23,
   "metadata": {},
   "outputs": [],
   "source": [
    "from typing import Union\n",
    "from langchain_core.retrievers import BaseRetriever\n",
    "from pydantic import BaseModel, Field, ConfigDict\n",
    "from langchain_core.output_parsers import StrOutputParser\n",
    "\n",
    "class RAGStringQueryEngine(BaseModel):\n",
    "    \"\"\"\n",
    "    Custom Query Engine for Retrieval-Augmented Generation (fetching matching job recommendations).\n",
    "    \"\"\"\n",
    "\n",
    "    retriever: BaseRetriever\n",
    "    llm: Union[ChatOpenAI, OllamaLLM]\n",
    "    qa_prompt: PromptTemplate\n",
    "\n",
    "    # Allow arbitrary types\n",
    "    model_config = ConfigDict(arbitrary_types_allowed=True)\n",
    "\n",
    "    def custom_query(self, candidate_details: str, retrieved_jobs: str):\n",
    "        query_str = self.qa_prompt.format(\n",
    "            query_str=candidate_details, context_str=retrieved_jobs\n",
    "        )\n",
    "        output_parser = StrOutputParser()\n",
    "        llm_chain = self.qa_prompt | self.llm | output_parser\n",
    "        if isinstance(self.llm, ChatOpenAI):\n",
    "            # OpenAI-specific query handling\n",
    "            response = llm_chain.invoke(\n",
    "                {\"query_str\": candidate_details, \"context_str\": retrieved_jobs}\n",
    "            )\n",
    "        elif isinstance(self.llm, OllamaLLM):\n",
    "            # Ollama-specific query handling\n",
    "            response = llm_chain.invoke(\n",
    "                {\"query_str\": candidate_details, \"context_str\": retrieved_jobs}\n",
    "            )\n",
    "        else:\n",
    "            raise ValueError(\"Unsupported LLM type. Please use OpenAI or Ollama.\")\n",
    "\n",
    "        return str(response)"
   ]
  },
  {
   "cell_type": "code",
   "execution_count": 27,
   "metadata": {},
   "outputs": [],
   "source": [
    "rag_engine = RAGStringQueryEngine(\n",
    "    retriever=job_index.as_retriever(),\n",
    "    # llm=analyzer.llm,  # This can be OpenAI or Ollama\n",
    "    llm=llm,  # This can be OpenAI or Ollama\n",
    "    qa_prompt=PromptTemplate(\n",
    "        input_variables=[\"query_str\", \"context_str\"],\n",
    "        template=\"\"\"\\\n",
    "        You are expert in analyzing resumes, based on the following candidate details and job descriptions:\n",
    "        Candidate Details:\n",
    "        ---------------------\n",
    "        {query_str}\n",
    "        ---------------------\n",
    "        Job Descriptions:\n",
    "        ---------------------\n",
    "        {context_str}\n",
    "        ---------------------\n",
    "        Provide a concise list of the matching jobs. For each matching job, mention job-related details such as \n",
    "        company, brief job description, location, employment type, salary range, URL for each suggestion, and a brief explanation of why the job matches the candidate's profile.\n",
    "        Be critical in matching profile with the jobs. Thoroughly analyze education, skills, and experience to match jobs.  \n",
    "        Do not explain why the candidate's profile does not match with the other jobs. Do not include any summary. Order the jobs based on their relevance. \n",
    "        Answer: \n",
    "        \"\"\",\n",
    "    ),\n",
    ")\n",
    "\n",
    "llm_response = rag_engine.custom_query(\n",
    "    candidate_details=candidate_details,\n",
    "    retrieved_jobs=retrieved_context,\n",
    ")"
   ]
  },
  {
   "cell_type": "code",
   "execution_count": 28,
   "metadata": {},
   "outputs": [
    {
     "data": {
      "text/plain": [
       "\"1. **Job Title:** Human Resources Recruiter  \\n   **Company:** OfficeTeam  \\n   **Job Description:** Responsible for gathering job description details, posting jobs, screening resumes, actively recruiting, phone screening candidates, scheduling interviews, generating offer letters, and assisting with onboarding.  \\n   **Location:** Milwaukee, WI  \\n   **Employment Type:** Seasonal/Temp  \\n   **Salary Range:** $16.15 to $18.70 per hour  \\n   **URL:** [Apply Here](mailto:OfficeTeam@414-271-4003)  \\n   **Explanation:** The candidate has strong communication skills and experience in teamwork and problem-solving, which are essential for recruiting. Their research skills and ability to work with various technologies could aid in sourcing candidates effectively.\\n\\n2. **Job Title:** Receptionist  \\n   **Company:** OfficeTeam  \\n   **Job Description:** First point of contact for a private school, responsible for greeting parents, managing enrollment papers, calendar management, and answering phones.  \\n   **Location:** San Bruno, CA  \\n   **Employment Type:** Seasonal/Temp  \\n   **Salary Range:** $14.00 to $15.00 per hour  \\n   **URL:** [Apply Here](mailto:OfficeTeam@ClickHereToEmailYourResumé)  \\n   **Explanation:** The candidate's strong verbal and written communication skills, along with their ability to multitask, align well with the requirements of a receptionist role. Their experience in customer service and teamwork would be beneficial in this position.\\n\\n3. **Job Title:** Receptionist  \\n   **Company:** Mind of Beauty Day Spa  \\n   **Job Description:** Act as a receptionist and support staff as needed.  \\n   **Location:** Los Altos, CA  \\n   **Employment Type:** Part-Time  \\n   **Salary Range:** Not specified  \\n   **URL:** [Apply Here](mailto:MindOfBeautyDaySpa@Apply)  \\n   **Explanation:** The candidate's communication skills and ability to work in a team environment make them suitable for a receptionist role. Although the job requires fluency in Mandarin, the candidate's bilingual skills in Vietnamese and English may still be advantageous in a diverse workplace.\""
      ]
     },
     "execution_count": 28,
     "metadata": {},
     "output_type": "execute_result"
    }
   ],
   "source": [
    "llm_response"
   ]
  },
  {
   "cell_type": "code",
   "execution_count": 33,
   "metadata": {},
   "outputs": [
    {
     "name": "stdout",
     "output_type": "stream",
     "text": [
      "1. **Job Title:** Human Resources Recruiter  \n",
      "   **Company:** OfficeTeam  \n",
      "   **Job Description:** Responsible for gathering job description details, posting jobs, screening resumes, actively recruiting, phone screening candidates, scheduling interviews, generating offer letters, and assisting with onboarding.  \n",
      "   **Location:** Milwaukee, WI  \n",
      "   **Employment Type:** Seasonal/Temp  \n",
      "   **Salary Range:** $16.15 to $18.70 per hour  \n",
      "   **URL:** [Apply Here](mailto:OfficeTeam@414-271-4003)  \n",
      "   **Explanation:** The candidate has strong communication skills and experience in teamwork and problem-solving, which are essential for recruiting. Their research skills and ability to work with various technologies could aid in sourcing candidates effectively.\n",
      "\n",
      "2. **Job Title:** Receptionist  \n",
      "   **Company:** OfficeTeam  \n",
      "   **Job Description:** First point of contact for a private school, responsible for greeting parents, managing enrollment papers, calendar management, and answering phones.  \n",
      "   **Location:** San Bruno, CA  \n",
      "   **Employment Type:** Seasonal/Temp  \n",
      "   **Salary Range:** $14.00 to $15.00 per hour  \n",
      "   **URL:** [Apply Here](mailto:OfficeTeam@ClickHereToEmailYourResumé)  \n",
      "   **Explanation:** The candidate's strong verbal and written communication skills, along with their ability to multitask, align well with the requirements of a receptionist role. Their experience in customer service and teamwork would be beneficial in this position.\n",
      "\n",
      "3. **Job Title:** Receptionist  \n",
      "   **Company:** Mind of Beauty Day Spa  \n",
      "   **Job Description:** Act as a receptionist and support staff as needed.  \n",
      "   **Location:** Los Altos, CA  \n",
      "   **Employment Type:** Part-Time  \n",
      "   **Salary Range:** Not specified  \n",
      "   **URL:** [Apply Here](mailto:MindOfBeautyDaySpa@Apply)  \n",
      "   **Explanation:** The candidate's communication skills and ability to work in a team environment make them suitable for a receptionist role. Although the job requires fluency in Mandarin, the candidate's bilingual skills in Vietnamese and English may still be advantageous in a diverse workplace.\n"
     ]
    },
    {
     "data": {
      "text/plain": [
       "[None,\n",
       " None,\n",
       " None,\n",
       " None,\n",
       " None,\n",
       " None,\n",
       " None,\n",
       " None,\n",
       " None,\n",
       " None,\n",
       " None,\n",
       " None,\n",
       " None,\n",
       " None,\n",
       " None,\n",
       " None,\n",
       " None,\n",
       " None,\n",
       " None,\n",
       " None,\n",
       " None,\n",
       " None,\n",
       " None,\n",
       " None,\n",
       " None,\n",
       " None]"
      ]
     },
     "execution_count": 33,
     "metadata": {},
     "output_type": "execute_result"
    }
   ],
   "source": [
    "[print(i) for i in llm_response.split('\\n')]\n"
   ]
  },
  {
   "cell_type": "markdown",
   "metadata": {},
   "source": [
    "1. **Job Title:** Human Resources Recruiter  \n",
    "   **Company:** OfficeTeam  \n",
    "   **Job Description:** Responsible for gathering job description details, posting jobs, screening resumes, actively recruiting, phone screening candidates, scheduling interviews, generating offer letters, and assisting with onboarding.  \n",
    "   **Location:** Milwaukee, WI  \n",
    "   **Employment Type:** Seasonal/Temp  \n",
    "   **Salary Range:** $16.15 to $18.70 per hour  \n",
    "   **URL:** [Apply Here](mailto:OfficeTeam@414-271-4003)  \n",
    "   **Explanation:** The candidate has strong communication skills and experience in teamwork and problem-solving, which are essential for recruiting. Their research skills and ability to work with various technologies could aid in sourcing candidates effectively.\n",
    "\n",
    "2. **Job Title:** Receptionist  \n",
    "   **Company:** OfficeTeam  \n",
    "   **Job Description:** First point of contact for a private school, responsible for greeting parents, managing enrollment papers, calendar management, and answering phones.  \n",
    "   **Location:** San Bruno, CA  \n",
    "   **Employment Type:** Seasonal/Temp  \n",
    "   **Salary Range:** $14.00 to $15.00 per hour  \n",
    "   **URL:** [Apply Here](mailto:OfficeTeam@ClickHereToEmailYourResumé)  \n",
    "   **Explanation:** The candidate's strong verbal and written communication skills, along with their ability to multitask, align well with the requirements of a receptionist role. Their experience in customer service and teamwork would be beneficial in this position.\n",
    "\n",
    "3. **Job Title:** Receptionist  \n",
    "   **Company:** Mind of Beauty Day Spa  \n",
    "   **Job Description:** Act as a receptionist and support staff as needed.  \n",
    "   **Location:** Los Altos, CA  \n",
    "   **Employment Type:** Part-Time  \n",
    "   **Salary Range:** Not specified  \n",
    "   **URL:** [Apply Here](mailto:MindOfBeautyDaySpa@Apply)  \n",
    "   **Explanation:** The candidate's communication skills and ability to work in a team environment make them suitable for a receptionist role. Although the job requires fluency in Mandarin, the candidate's bilingual skills in Vietnamese and English may still be advantageous in a diverse workplace."
   ]
  },
  {
   "cell_type": "code",
   "execution_count": null,
   "metadata": {},
   "outputs": [],
   "source": [
    "llm_response = \"1. **Job Title:** Human Resources Recruiter  \\n   **Company:** OfficeTeam  \\n   **Job Description:** Responsible for gathering job description details, posting jobs, screening resumes, actively recruiting, phone screening candidates, scheduling interviews, generating offer letters, and assisting with onboarding.  \\n   **Location:** Milwaukee, WI  \\n   **Employment Type:** Seasonal/Temp  \\n   **Salary Range:** $16.15 to $18.70 per hour  \\n   **URL:** [Apply Here](mailto:OfficeTeam@414-271-4003)  \\n   **Explanation:** The candidate has strong communication skills and experience in teamwork and problem-solving, which are essential for recruiting. Their research skills and ability to work with various technologies could aid in sourcing candidates effectively.\\n\\n2. **Job Title:** Receptionist  \\n   **Company:** OfficeTeam  \\n   **Job Description:** First point of contact for a private school, responsible for greeting parents, managing enrollment papers, calendar management, and answering phones.  \\n   **Location:** San Bruno, CA  \\n   **Employment Type:** Seasonal/Temp  \\n   **Salary Range:** $14.00 to $15.00 per hour  \\n   **URL:** [Apply Here](mailto:OfficeTeam@ClickHereToEmailYourResumé)  \\n   **Explanation:** The candidate's strong verbal and written communication skills, along with their ability to multitask, align well with the requirements of a receptionist role. Their experience in customer service and teamwork would be beneficial in this position.\\n\\n3. **Job Title:** Receptionist  \\n   **Company:** Mind of Beauty Day Spa  \\n   **Job Description:** Act as a receptionist and support staff as needed.  \\n   **Location:** Los Altos, CA  \\n   **Employment Type:** Part-Time  \\n   **Salary Range:** Not specified  \\n   **URL:** [Apply Here](mailto:MindOfBeautyDaySpa@Apply)  \\n   **Explanation:** The candidate's communication skills and ability to work in a team environment make them suitable for a receptionist role. Although the job requires fluency in Mandarin, the candidate's bilingual skills in Vietnamese and English may still be advantageous in a diverse workplace.\""
   ]
  },
  {
   "cell_type": "code",
   "execution_count": 4,
   "metadata": {},
   "outputs": [],
   "source": [
    "from transformers import AutoTokenizer, AutoModel\n",
    "import torch"
   ]
  },
  {
   "cell_type": "code",
   "execution_count": 38,
   "metadata": {},
   "outputs": [],
   "source": [
    "import sys\n",
    "sys.path.insert(0, '/Job-recommend/CV-Analyzer-Job-Recommender/Multiple models/')"
   ]
  },
  {
   "cell_type": "code",
   "execution_count": 1,
   "metadata": {},
   "outputs": [
    {
     "name": "stderr",
     "output_type": "stream",
     "text": [
      "c:\\Users\\Admin\\anaconda3\\envs\\langchain-chatbot\\lib\\site-packages\\tqdm\\auto.py:21: TqdmWarning: IProgress not found. Please update jupyter and ipywidgets. See https://ipywidgets.readthedocs.io/en/stable/user_install.html\n",
      "  from .autonotebook import tqdm as notebook_tqdm\n"
     ]
    }
   ],
   "source": [
    "from utils import get_embedding"
   ]
  },
  {
   "cell_type": "code",
   "execution_count": 1,
   "metadata": {},
   "outputs": [],
   "source": [
    "from typing import *\n",
    "import openai\n",
    "import os\n",
    "from pydantic import BaseModel, Field\n",
    "from langchain_core.prompts import PromptTemplate\n",
    "from langchain.output_parsers import StructuredOutputParser, ResponseSchema\n",
    "from dotenv import load_dotenv\n",
    "\n",
    "load_dotenv()\n",
    "\n",
    "client = openai.OpenAI(api_key = os.getenv(\"OPENAI_API_KEY\"))\n",
    "# openai.api_key = os.environ.get(\"OPENAI_API_KEY\")\n",
    "\n",
    "class Structure(BaseModel):\n",
    "    intro: Optional[str] = Field(..., description=\"Introduction section of the answer\")\n",
    "    personal: Optional[str] = Field(\n",
    "        ..., description=\"Personal opinion section of the answer\"\n",
    "    )\n",
    "    conclusion: str = Field(..., description=\"Short conclusion section of the answer\")\n",
    "\n",
    "    def structure_query(self):\n",
    "        query = \"\"\n",
    "        if self.intro is not None:\n",
    "            query += f\"Introduction: {self.intro}\\n\"\n",
    "        if self.personal is not None:\n",
    "            query += f\"Personal opinion: {self.personal}\\n\"\n",
    "        if self.conclusion is not None:\n",
    "            query += f\"Short conclusion: {self.conclusion}\\n\"\n",
    "        return query\n",
    "\n",
    "\n",
    "def get_completion(prompt):\n",
    "    messages = [{\"role\": \"user\", \"content\": prompt}]\n",
    "    response = client.chat.completions.create(\n",
    "        model=\"gpt-4o-mini\", messages=messages, temperature=0\n",
    "    )\n",
    "    return response.choices[0].message.content\n",
    "\n",
    "\n",
    "def stup_format_instructions():\n",
    "    response_schemas = [\n",
    "        ResponseSchema(\n",
    "            name=\"structure\",\n",
    "            description=\"\"\"Structure validation results:\n",
    "            - \"intro_match\": Whether the introduction matches the structure (boolean).\n",
    "            - \"personal_match\": Whether the personal opinion matches (boolean).\n",
    "            - \"conclusion_match\": Whether the short conclusion matches (boolean).\n",
    "            - \"missing_phrases\": List of required phrases that are missing (list).\"\"\",\n",
    "        ),\n",
    "        ResponseSchema(\n",
    "            name=\"content\",\n",
    "            description=\"\"\"Content validation results:\n",
    "            - \"relevance\": Relevance score (float between 0 and 1).\n",
    "            - \"logic\": Logic score (float between 0 and 1).\"\"\",\n",
    "        ),\n",
    "        ResponseSchema(\n",
    "            name=\"feedback\",\n",
    "            description=\"\"\"Feedback details:\n",
    "            - \"intro_feedback\": Feedback for the introduction (string).\n",
    "            - \"personal_feedback\": Feedback for the personal opinion section (string).\n",
    "            - \"conclusion_feedback\": Feedback for the conclusion (string).\n",
    "            - \"suggestions\": List of actionable suggestions for improvement (list).\"\"\",\n",
    "        ),\n",
    "    ]\n",
    "\n",
    "    output_parser = StructuredOutputParser.from_response_schemas(response_schemas)\n",
    "    format_instructions = output_parser.get_format_instructions()\n",
    "\n",
    "    return output_parser, format_instructions\n",
    "\n",
    "\n",
    "def stup_prompt():\n",
    "    template = \"\"\"\n",
    "    You are an english tutor. With a question {question_query}, you ask student to write a paragraph including 3 sections (Intro, Personal Opinion, Conclusion) following a strictly structure:\n",
    "    \"Intro: Oh yes, definitely! There's no denying that  + (positive aspect of something) + People enjoy it because' + (explanations),\n",
    "    Personal Opinion: However, for me personally, it depends on +  .... + For example, + (specific example(s) and explanations),\n",
    "    Conclusion: Like' + ...\",\n",
    "    With a student's answer {student_answer}, you analyze it based on the following criteria:\n",
    "        - Structure requirements:\n",
    "            + Each part must follow the specified structure and include required words.\n",
    "            + Provide detailed feedback for missing part:\n",
    "                - Intro: \"You missed the introduction. Start with something like...\"\n",
    "                - Opinion: \"You forgot to include a specific example. Try again with...\"\n",
    "                - Conclustion: \"Don't forget to finish with a short conclusion, like... to wrap up your answer.\"\n",
    "        - Content relevance:\n",
    "                + Evaluate how well the answer addresses the question: {question_query}.\"\n",
    "    Return the analysis result strictly in the following plaintext format.\"\"\"\n",
    "\n",
    "    prompt = PromptTemplate(\n",
    "        template=template,\n",
    "        input_variables=[\n",
    "            \"question_query\",\n",
    "            \"structure_query\",\n",
    "            \"student_answer\",\n",
    "            \"format_instructions\",\n",
    "        ],\n",
    "    )\n",
    "    return prompt\n",
    "\n",
    "\n",
    "output_parser, format_instructions = stup_format_instructions()\n",
    "prompt = stup_prompt()\n",
    "\n",
    "\n",
    "def response(question: AnyStr, answer: AnyStr, structure: Structure):\n",
    "    query = prompt.format(\n",
    "        question_query=question,\n",
    "        structure_query=structure.structure_query(),\n",
    "        student_answer=answer,\n",
    "        format_instructions=format_instructions,\n",
    "    )\n",
    "    return get_completion(query)\n",
    "\n",
    "\n",
    "def response_v2(\n",
    "    question: AnyStr,\n",
    "    answer: AnyStr,\n",
    "    structure_intro: AnyStr,\n",
    "    structure_personal: AnyStr,\n",
    "    structure_conclusion: AnyStr,\n",
    "):\n",
    "    structure = Structure(\n",
    "        intro=structure_intro,\n",
    "        personal=structure_personal,\n",
    "        conclusion=structure_conclusion,\n",
    "    )\n",
    "    query = prompt.format(\n",
    "        question_query=question,\n",
    "        structure_query=structure.structure_query(),\n",
    "        student_answer=answer,\n",
    "        format_instructions=format_instructions,\n",
    "    )\n",
    "    return get_completion(query)  "
   ]
  },
  {
   "cell_type": "code",
   "execution_count": 2,
   "metadata": {},
   "outputs": [
    {
     "name": "stdout",
     "output_type": "stream",
     "text": [
      "Structure requirements:\n",
      "- Intro: \"You followed the introduction structure well, starting with 'Oh yes, definitely!' and providing a positive aspect of living in a noisy place. However, you could enhance it by adding a more specific explanation of why people enjoy the vibrancy and excitement.\"\n",
      "- Opinion: \"You included a personal opinion, but you could strengthen it by providing a more detailed specific example. For instance, you could elaborate on how the atmosphere of a noisy café enhances your experience with friends.\"\n",
      "- Conclusion: \"You provided a conclusion, but it could be more definitive. Try finishing with a statement that summarizes your overall feelings about noise in different contexts, like 'In conclusion, while I appreciate the energy of noise in social settings, I also value quietness for focus.'\"\n",
      "\n",
      "Content relevance:\n",
      "- Your answer addresses the question well, as you express both a general appreciation for noise and your personal preferences. You effectively convey that your enjoyment of noise varies depending on the situation, which is relevant to the question. However, adding more specific examples and a clearer conclusion would strengthen your response.\n",
      "================================================================\n",
      "Structure requirements:\n",
      "- Intro: You missed the introduction. Start with something like \"Oh yes, definitely! There's no denying that a lively atmosphere can be exciting. People enjoy it because it creates a sense of energy and connection.\"\n",
      "- Opinion: You forgot to include a specific example. Try again with something like \"However, for me personally, it depends on the situation. For example, when I am studying or trying to relax, I find that noise can be very distracting and annoying.\"\n",
      "- Conclusion: Don't forget to finish with a short conclusion, like \"Like many others, I prefer a peaceful environment to focus and unwind.\"\n",
      "\n",
      "Content relevance:\n",
      "Your answer addresses the question, \"Do you like to stay in a place with a lot of noise?\" by expressing a clear preference for quiet places. However, it could be strengthened by incorporating the required structure and providing more detailed explanations.\n",
      "================================================================\n",
      "**Analysis Result:**\n",
      "\n",
      "- **Structure requirements:**\n",
      "    - **Intro:** \"You did a good job with the introduction! You started with 'Oh yes, definitely!' and included a positive aspect of living in a noisy place. However, you could enhance it by adding a more specific explanation about why people enjoy the vibrancy of noise.\"\n",
      "    - **Personal Opinion:** \"You provided a personal opinion, but you could strengthen it by including a specific example of a situation where noise is preferable. For example, you mentioned studying and festivals, but elaborating on a specific festival or event would make your point clearer.\"\n",
      "    - **Conclusion:** \"You included a conclusion, but it could be more explicit. Don't forget to finish with a short conclusion, like 'In summary, while I appreciate the energy of noisy places during certain occasions, I also value quietness when I need to focus.' to wrap up your answer.\"\n",
      "\n",
      "- **Content relevance:** \n",
      "    - \"Your answer addresses the question well by expressing both a general enjoyment of noise and your personal preferences. You effectively conveyed that your feelings about noise depend on the context, which is relevant to the question. However, providing a more detailed example would enhance your response.\"\n"
     ]
    }
   ],
   "source": [
    "original_text = \"\"\"\n",
    "    Oh yes, definitely! There's no denying that living in a noisy place can be vibrant and full of energy. People enjoy it because it keeps them active and engaged.\n",
    "    \n",
    "    However, for me personally, it depends on the situation. For example, if I am studying, I prefer a quiet place to concentrate. However, during a festival, I enjoy staying in a lively and noisy environment to feel the energy and excitement.\n",
    "   \n",
    "    Like the buzz in a busy café that merges seamlessly into the surroundings, becoming a soundtrack to efficiency and communal activity.\n",
    "    \"\"\"\n",
    "structure = Structure(\n",
    "    intro=\"'Oh yes, definitely! There's no denying that'  + (positive aspect of something) + 'People enjoy it because' + (explanations)\",\n",
    "    personal=\"'However, for me personally, it depends on' +  .... + 'For example,' + (specific example(s))\",\n",
    "    conclusion=\"'Like' + ...\",\n",
    ")\n",
    "questions = \"Do you like to stay in a place with a lot of noise?\"\n",
    "\n",
    "answer = \"\"\"\n",
    "Oh yes, definitely! There's no denying that living in a place with a lot of noise can make people feel energetic and lively. People enjoy it because it creates a sense of vibrancy and excitement.\n",
    "\n",
    "However, for me personally, it depends on the situation. For example, I enjoy the buzz of a noisy café when catching up with friends, as it adds to the fun. But when it comes to studying or working, I prefer a quieter environment to help me concentrate better.\n",
    "\n",
    "Like I said, it really depends on the context and my mood at the time.\"\"\"\n",
    "\n",
    "answer2 = \"\"\"I prefer a quiet place. Noise can be very annoying and I don't like being in loud environments. Sometimes, I go to places with more people, but usually, I avoid it.\"\"\"\n",
    "print(response(question=questions, answer=answer, structure=structure))\n",
    "print(\"================================================================\")\n",
    "print(response(question=questions, answer=answer2, structure=structure))\n",
    "print(\"================================================================\")\n",
    "print(response(question=questions, answer=original_text, structure=structure))"
   ]
  },
  {
   "cell_type": "code",
   "execution_count": 1,
   "metadata": {},
   "outputs": [],
   "source": [
    "from langchain_core.output_parsers import JsonOutputParser\n",
    "from langchain_core.prompts import PromptTemplate\n",
    "from langchain_openai import ChatOpenAI\n",
    "from pydantic import BaseModel, Field\n",
    "from typing import List, Optional\n",
    "from dotenv import load_dotenv\n",
    "\n",
    "load_dotenv()\n",
    "\n",
    "model = ChatOpenAI(temperature=0)\n",
    "\n",
    "class ContentScore(BaseModel):\n",
    "    relevance: Optional[float] = Field(\n",
    "        None, description=\"Relevance score (float between 0 and 1).\"\n",
    "    )\n",
    "    logic: Optional[float] = Field(\n",
    "        None, description=\"Logic score (float between 0 and 1).\"\n",
    "    )\n",
    "\n",
    "# Define your desired data structure.\n",
    "class AIAnswer(BaseModel):\n",
    "    content_score: Optional[ContentScore] = Field(\n",
    "        None, description=\"Content validation results. If the answer is relevant and logical, provides a relevance score and a logic score. For example: 'Relevance: 0.8, Logic: 0.9.\")\n",
    "    ai_feedback: Optional[str] = Field(\n",
    "        None, description=\"If the student answers with the correct structure, just shows positive feedback such as: 'Great job! You followed the structure perfectly!' or 'Good effort! Your answer follows the structure well, but pay attention to small grammatical mistakes and word choice. Try using more precise vocabulary and check for subject-verb agreement.' or 'Your response is clear and understandable. However, avoid minor errors in grammar, like 'make' instead of 'makes.' Also, add more specific examples for a stronger answer.' or 'Great job with the structure! To improve, focus on expanding your vocabulary and ensuring your grammar is accurate.'\")\n",
    "    missing_example: Optional[str] = Field(\n",
    "        None, description=\"If any part of the structure is missing, displays detailed suggestions to Missing example with format like: 'You forgot to include a specific example. Try again with 'For example, + explanation'\")\n",
    "    missing_intro: Optional[str] = Field(\n",
    "        None, description=\"If any part of the structure is missing, displays detailed suggestions to Missing opening sentence with format like: 'You missed the introduction. Start with something like 'Oh yes, definitely! There's no denying that….'\")\n",
    "    missing_a_short_concluding_sentence: Optional[str] = Field(\n",
    "        None, description=\"If any part of the structure is missing, displays detailed suggestions to Missing a short concluding sentence with format like: 'Don't forget to finish with a short conclusion, like 'Like…' to wrap up your answer.'\")\n",
    "    grammar_errors: Optional[List[str]] = Field(\n",
    "        None, description=\"If the verb tense is grammatically incorrect, provides feedback on grammar errors. For instance: 'Your grammar is mostly correct, but you made a small error in verb tense. For example, 'It depend' should be 'It depends.'\")\n",
    "    agreement_between_subject_and_verb_errors: Optional[List[str]] = Field(\n",
    "        None, description=\"If there is an error in the agreement between subject and verb, provides feedback on agreement between subject and verb. For instance: 'Be careful with subject-verb agreement. For example, 'People enjoys' should be 'People enjoy.'\")\n",
    "    sentence_structure_diversity_errors: Optional[List[str]] = Field(\n",
    "        None, description=\"If the sentence structure is not varied, provides feedback on sentence structure diversity. For instance: 'You could improve sentence variety by using different structures. Instead of 'People enjoy it because…,' try 'It is enjoyable because…'\")\n",
    "\n",
    "\n",
    "# And a query intented to prompt a language model to populate the data structure.\n",
    "require_student = \"Do you like to stay in a place with a lot of noise?\"\n",
    "\n",
    "student_answer = \"\"\"\n",
    "Oh yes, definitely! There's no denying that living in a place with a lot of noise can make people feel energetic and lively. People enjoy it because it creates a sense of vibrancy and excitement.\n",
    "\n",
    "However, for me personally, it depends on the situation. For example, I enjoy the buzz of a noisy café when catching up with friends, as it adds to the fun. But when it comes to studying or working, I prefer a quieter environment to help me concentrate better.\n",
    "\n",
    "Like I said, it really depends on the context and my mood at the time.\"\"\"\n",
    "\n",
    "original_text = \"\"\"\n",
    "    Oh yes, definitely! There's no denying that living in a noisy place can be vibrant and full of energy. People enjoy it because it keeps them active and engaged.\n",
    "    \n",
    "    However, for me personally, it depends on the situation. For example, if I am studying, I prefer a quiet place to concentrate. However, during a festival, I enjoy staying in a lively and noisy environment to feel the energy and excitement.\n",
    "   \n",
    "    Like the buzz in a busy café that merges seamlessly into the surroundings, becoming a soundtrack to efficiency and communal activity.\n",
    "    \"\"\"\n",
    "\n",
    "answer2 = \"\"\"I prefer a quiet place. Noise can be very annoying and I don't like being in loud environments. Sometimes, I go to places with more people, but usually, I avoid it.\"\"\"\n",
    "\n",
    "structure_requirements = \"\"\"Intro: Oh yes, definitely! There's no denying that (positive aspect of something) People enjoy it because (explanations),\n",
    "    Personal Opinion: However, for me personally, it depends on +  .... + For example, (specific example(s) and explanations),\n",
    "    Conclusion: Like ...\"\"\"\n",
    "# Set up a parser + inject instructions into the prompt template.\n",
    "parser = JsonOutputParser(pydantic_object=AIAnswer)\n",
    "\n",
    "prompt = PromptTemplate(\n",
    "    template=\"\"\"\n",
    "    You are an english tutor. With a question require student answer {require_student}, you ask student to write a paragraph including 3 sections (Intro, Personal Opinion, Conclusion) following a strictly structure, each part in (), you should provide detailed feedback for missing part:\n",
    "    {structure_requirements},\n",
    "    With a student's answer {student_answer}, you analyze it based on the following objective below:\n",
    "    - Students need to apply the parts of the structure correctly to construct their answer.\n",
    "    - AI (you) checks whether students are using the correct structure (including required phrases and sequences).\n",
    "    Answer the user query.\\n{format_instructions}\\n\"\"\",\n",
    "    input_variables=[\"require_student\", \"student_answer\", \"structure_requirements\"],\n",
    "    partial_variables={\"format_instructions\": parser.get_format_instructions()},\n",
    ")\n",
    "\n",
    "chain = prompt | model | parser\n",
    "\n",
    "res = chain.invoke({\"require_student\": require_student, \"student_answer\": student_answer, \"structure_requirements\": structure_requirements})"
   ]
  },
  {
   "cell_type": "code",
   "execution_count": 3,
   "metadata": {},
   "outputs": [
    {
     "data": {
      "text/plain": [
       "{'content_score': {'relevance': 0.8, 'logic': 0.9},\n",
       " 'ai_feedback': 'Great job! You followed the structure perfectly!',\n",
       " 'missing_example': 'null',\n",
       " 'missing_intro': 'null',\n",
       " 'missing_a_short_concluding_sentence': 'null',\n",
       " 'grammar_errors': 'null',\n",
       " 'agreement_between_subject_and_verb_errors': 'null',\n",
       " 'sentence_structure_diversity_errors': 'null'}"
      ]
     },
     "execution_count": 3,
     "metadata": {},
     "output_type": "execute_result"
    }
   ],
   "source": [
    "res"
   ]
  },
  {
   "cell_type": "code",
   "execution_count": 50,
   "metadata": {},
   "outputs": [],
   "source": [
    "res1 = chain.invoke({\"require_student\": questions, \"student_answer\": original_text, \"structure_requirements\": structure_requirements})"
   ]
  },
  {
   "cell_type": "code",
   "execution_count": 51,
   "metadata": {},
   "outputs": [
    {
     "data": {
      "text/plain": [
       "{'content_score': {'relevance': 0.8, 'logic': 0.9},\n",
       " 'ai_feedback': 'Great job! You followed the structure perfectly!',\n",
       " 'missing_example': None,\n",
       " 'missing_intro': None,\n",
       " 'missing_a_short_concluding_sentence': None,\n",
       " 'grammar_errors': None,\n",
       " 'agreement_between_subject_and_verb_errors': None,\n",
       " 'sentence_structure_diversity_errors': None}"
      ]
     },
     "execution_count": 51,
     "metadata": {},
     "output_type": "execute_result"
    }
   ],
   "source": [
    "res1"
   ]
  },
  {
   "cell_type": "code",
   "execution_count": 52,
   "metadata": {},
   "outputs": [],
   "source": [
    "res2 = chain.invoke({\"require_student\": questions, \"student_answer\": answer2, \"structure_requirements\": structure_requirements})"
   ]
  },
  {
   "cell_type": "code",
   "execution_count": 53,
   "metadata": {},
   "outputs": [
    {
     "data": {
      "text/plain": [
       "{'content_score': {'relevance': 0.6, 'logic': 0.7},\n",
       " 'ai_feedback': \"Your response is clear and understandable. However, avoid minor errors in grammar, like 'being in loud environments' should be 'being in loud environments can be very annoying.' Also, add more specific examples for a stronger answer.\",\n",
       " 'missing_example': \"You forgot to include a specific example. Try again with 'For example, noise can be very annoying and disrupt my focus.'\",\n",
       " 'missing_intro': None,\n",
       " 'missing_a_short_concluding_sentence': None,\n",
       " 'grammar_errors': [\"being in loud environments should be 'being in loud environments can be very annoying.'\"],\n",
       " 'agreement_between_subject_and_verb_errors': None,\n",
       " 'sentence_structure_diversity_errors': None}"
      ]
     },
     "execution_count": 53,
     "metadata": {},
     "output_type": "execute_result"
    }
   ],
   "source": [
    "res2"
   ]
  },
  {
   "cell_type": "code",
   "execution_count": 54,
   "metadata": {},
   "outputs": [
    {
     "data": {
      "text/plain": [
       "AIAnswer(content_score=ContentScore(relevance=0.6, logic=0.7), ai_feedback=\"Your response is clear and understandable. However, avoid minor errors in grammar, like 'being in loud environments' should be 'being in loud environments can be very annoying.' Also, add more specific examples for a stronger answer.\", missing_example=\"You forgot to include a specific example. Try again with 'For example, noise from construction sites can make it hard to concentrate.'\", missing_intro=None, missing_a_short_concluding_sentence=\"Don't forget to finish with a short conclusion, like 'Like finding a peaceful place to relax.' to wrap up your answer.\", grammar_errors=[\"being in loud environments should be 'being in loud environments can be very annoying.'\"], agreement_between_subject_and_verb_errors=None, sentence_structure_diversity_errors=None)"
      ]
     },
     "execution_count": 54,
     "metadata": {},
     "output_type": "execute_result"
    }
   ],
   "source": [
    "chain = prompt | model | parser\n",
    "def get_completion(require_student: str, student_answer: str, structure_requirements: str):\n",
    "    res = chain.invoke({\"require_student\": require_student, \"student_answer\": student_answer, \"structure_requirements\": structure_requirements})\n",
    "    try:\n",
    "        return AIAnswer.model_validate(res)\n",
    "    except Exception as e:\n",
    "        print(f\"Error parsing response: {str(e)}\")\n",
    "        return res\n",
    "\n",
    "get_completion(require_student, answer2, structure_requirements)"
   ]
  }
 ],
 "metadata": {
  "kernelspec": {
   "display_name": "langchain-chatbot",
   "language": "python",
   "name": "python3"
  },
  "language_info": {
   "codemirror_mode": {
    "name": "ipython",
    "version": 3
   },
   "file_extension": ".py",
   "mimetype": "text/x-python",
   "name": "python",
   "nbconvert_exporter": "python",
   "pygments_lexer": "ipython3",
   "version": "3.10.15"
  }
 },
 "nbformat": 4,
 "nbformat_minor": 2
}
